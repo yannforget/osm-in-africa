{
 "cells": [
  {
   "cell_type": "markdown",
   "metadata": {},
   "source": [
    "# Road network availability"
   ]
  },
  {
   "cell_type": "markdown",
   "metadata": {},
   "source": [
    "In this notebook, we analyze road data availability by measuring the actual length of the road network--instead of just bytes of information. In the OSM database, roads are modelled by \"way\" objects (*i.e.* polylines) with a non-null value for the `highway` property, that describes the type of road (*e.g.* primary, secondary, residential, track, pedestrian, etc.)."
   ]
  },
  {
   "cell_type": "markdown",
   "metadata": {
    "toc": true
   },
   "source": [
    "<h1>Contents<span class=\"tocSkip\"></span></h1>\n",
    "<div class=\"toc\"><ul class=\"toc-item\"><li><span><a href=\"#Geographic-extracts\" data-toc-modified-id=\"Geographic-extracts-1\"><span class=\"toc-item-num\">1&nbsp;&nbsp;</span>Geographic extracts</a></span></li><li><span><a href=\"#Road-network-analysis\" data-toc-modified-id=\"Road-network-analysis-2\"><span class=\"toc-item-num\">2&nbsp;&nbsp;</span>Road network analysis</a></span></li><li><span><a href=\"#What-types-of-roads-are-mapped?\" data-toc-modified-id=\"What-types-of-roads-are-mapped?-3\"><span class=\"toc-item-num\">3&nbsp;&nbsp;</span>What types of roads are mapped?</a></span></li><li><span><a href=\"#Availability-of-detailed-road-information\" data-toc-modified-id=\"Availability-of-detailed-road-information-4\"><span class=\"toc-item-num\">4&nbsp;&nbsp;</span>Availability of detailed road information</a></span></li></ul></div>"
   ]
  },
  {
   "cell_type": "markdown",
   "metadata": {},
   "source": [
    "## Geographic extracts"
   ]
  },
  {
   "cell_type": "code",
   "execution_count": 1,
   "metadata": {},
   "outputs": [],
   "source": [
    "import os\n",
    "import pytz\n",
    "from datetime import datetime\n",
    "import subprocess\n",
    "import json\n",
    "import concurrent.futures\n",
    "\n",
    "import osmium\n",
    "import numpy as np\n",
    "import pandas as pd\n",
    "import geopandas as gpd\n",
    "from fiona import crs\n",
    "import geojson\n",
    "import matplotlib.pyplot as plt\n",
    "import seaborn as sns\n",
    "\n",
    "%matplotlib inline"
   ]
  },
  {
   "cell_type": "code",
   "execution_count": 2,
   "metadata": {},
   "outputs": [],
   "source": [
    "INPUT_DIR = os.path.abspath(os.path.join('..', 'data', 'input'))\n",
    "OUTPUT_DIR = os.path.abspath(os.path.join('..', 'data', 'output'))\n",
    "OSM_DATAFILE = os.path.join(INPUT_DIR, 'africa-internal-190515.osh.pbf')"
   ]
  },
  {
   "cell_type": "code",
   "execution_count": 3,
   "metadata": {},
   "outputs": [],
   "source": [
    "africa = gpd.read_file('../data/input/africa.geojson')\n",
    "africa.set_index('ADMIN', drop=True, inplace=True)\n",
    "africa.drop(columns='ISO_A3', inplace=True)\n",
    "# Output data from previous notebook\n",
    "densities = pd.read_csv('../data/output/osmdb_densities.csv', index_col=0)"
   ]
  },
  {
   "cell_type": "markdown",
   "metadata": {},
   "source": [
    "* https://oslandia.com/en/2017/07/03/openstreetmap-data-analysis-how-to-parse-the-data-with-python/\n",
    "* https://osmcode.org/osmium-tool/manual.html#creating-geographic-extracts\n",
    "* https://github.com/jazzband/python-geojson/issues/84"
   ]
  },
  {
   "cell_type": "markdown",
   "metadata": {},
   "source": [
    "The following analysis focuses on the road network, so we first filter input data based on the `highway` OSM tag in order to reduce the size of the dataset."
   ]
  },
  {
   "cell_type": "code",
   "execution_count": 4,
   "metadata": {},
   "outputs": [],
   "source": [
    "if not os.path.isfile('../data/input/africa-highways.osh.pbf'):\n",
    "\n",
    "    subprocess.run([\n",
    "        'osmium', 'tags-filter', '../data/input/africa-190605.osh.pbf', 'w/highway',\n",
    "        '-o', '../data/input/africa-highways.osh.pbf'\n",
    "    ])"
   ]
  },
  {
   "cell_type": "markdown",
   "metadata": {},
   "source": [
    "Then we perform a geographical extract for each country using the `osmium extract` subcommand."
   ]
  },
  {
   "cell_type": "code",
   "execution_count": 6,
   "metadata": {},
   "outputs": [],
   "source": [
    "# Create geographical extracts for each country\n",
    "osmdir = '../data/input/osm'\n",
    "os.makedirs(osmdir, exist_ok=True)\n",
    "for country in africa.index:\n",
    "    \n",
    "    # Generate ID from country name\n",
    "    cid = country.replace(' ', '_')\n",
    "\n",
    "    # Avoid if file already exists\n",
    "    if os.path.isfile(os.path.join(osmdir, cid + '.osh.pbf')):\n",
    "        continue\n",
    "\n",
    "    # Dump geometry into a GeoJSON file\n",
    "    geom = africa.at[country, 'geometry'].__geo_interface__\n",
    "    with open('/tmp/geom.geojson', 'w') as f:\n",
    "        geojson.dump(geojson.Feature(geometry=geom), f)\n",
    "\n",
    "    # Extract from main OSM datafile with osmium\n",
    "    subprocess.run([\n",
    "        'osmium', 'extract', '--with-history',\n",
    "        '-p', '/tmp/geom.geojson',\n",
    "        '../data/input/africa-highways.osh.pbf',\n",
    "        '-o', os.path.join(osmdir, cid + '.osh.pbf')\n",
    "    ])\n",
    "    \n",
    "    os.remove('/tmp/geom.geojson')"
   ]
  },
  {
   "cell_type": "markdown",
   "metadata": {},
   "source": [
    "## Road network analysis"
   ]
  },
  {
   "cell_type": "markdown",
   "metadata": {},
   "source": [
    "* https://wiki.openstreetmap.org/wiki/Highways"
   ]
  },
  {
   "cell_type": "code",
   "execution_count": 7,
   "metadata": {},
   "outputs": [],
   "source": [
    "TAGS = [\n",
    "    'highway',\n",
    "    'maxspeed',\n",
    "    'oneway',\n",
    "    'width',\n",
    "    'surface',\n",
    "    'incline',\n",
    "    'foot',\n",
    "    'bicycle',\n",
    "    'access',\n",
    "    'bus',\n",
    "    'tracktype',\n",
    "    'lit',\n",
    "    'lanes',\n",
    "    'sidewalk',\n",
    "    'crossing'\n",
    "]"
   ]
  },
  {
   "cell_type": "code",
   "execution_count": 10,
   "metadata": {},
   "outputs": [],
   "source": [
    "class RoadsHandler(osmium.SimpleHandler):\n",
    "    \n",
    "    def __init__(self):\n",
    "        osmium.SimpleHandler.__init__(self)\n",
    "        self.data = []\n",
    "    \n",
    "    def way(self, w):\n",
    "        if 'highway' in w.tags:\n",
    "            try:\n",
    "                length = osmium.geom.haversine_distance(w.nodes)\n",
    "            except osmium.InvalidLocationError:\n",
    "                # Way incomplete (ignore)\n",
    "                return\n",
    "            self.data.append([\n",
    "                w.id,\n",
    "                w.version,\n",
    "                pd.Timestamp(w.timestamp),\n",
    "                w.tags['highway'],\n",
    "                length\n",
    "            ])"
   ]
  },
  {
   "cell_type": "code",
   "execution_count": 11,
   "metadata": {},
   "outputs": [],
   "source": [
    "def snapshot(roads, date):\n",
    "    \"\"\"Snapshot of the road network at a specific date.\"\"\"\n",
    "    data = roads.query('timestamp <= @date').groupby('osmid').version.max()\n",
    "    data = data.reset_index()\n",
    "    return pd.merge(data, roads, on=['osmid', 'version'])"
   ]
  },
  {
   "cell_type": "code",
   "execution_count": 12,
   "metadata": {},
   "outputs": [],
   "source": [
    "def summarize(roads, date):\n",
    "    \"\"\"Total road length per type at a specific date.\"\"\"\n",
    "    roads_snapshot = snapshot(roads, date)\n",
    "    lengths = roads_snapshot.groupby('highway').length.sum().round()\n",
    "    return lengths / 1000"
   ]
  },
  {
   "cell_type": "code",
   "execution_count": 13,
   "metadata": {},
   "outputs": [],
   "source": [
    "def history(roads, start_date, end_date, freq='3M'):\n",
    "    \"\"\"Evolution of road length for each road type.\"\"\"\n",
    "    daterange = pd.date_range(start_date, end_date, freq=freq, tz=pytz.UTC)\n",
    "    summaries = [summarize(roads, date) for date in daterange]\n",
    "    evolution = pd.DataFrame(summaries).T\n",
    "    evolution.columns = [d.strftime('%Y-%m') for d in daterange]\n",
    "    return evolution"
   ]
  },
  {
   "cell_type": "code",
   "execution_count": 21,
   "metadata": {},
   "outputs": [],
   "source": [
    "def process(country):\n",
    "    \"\"\"Process OSM data for a given country.\"\"\"\n",
    "    cid = country.replace(' ', '_')\n",
    "    handler = RoadsHandler()\n",
    "    handler.apply_file(os.path.join(osmdir, f'{cid}.osh.pbf'), locations=True)\n",
    "    columns = ['osmid', 'version', 'timestamp', 'highway', 'length']\n",
    "    roads = pd.DataFrame(handler.data, columns=columns)\n",
    "    start = datetime(2010, 1, 1, tzinfo=pytz.UTC)\n",
    "    end = datetime(2019, 5, 1, tzinfo=pytz.UTC)\n",
    "    evolution = history(roads, start, end, freq='3M')\n",
    "    return evolution"
   ]
  },
  {
   "cell_type": "code",
   "execution_count": 20,
   "metadata": {},
   "outputs": [],
   "source": [
    "os.makedirs('../data/output/roads_availability', exist_ok=True)\n",
    "\n",
    "with concurrent.futures.ProcessPoolExecutor(max_workers=4) as executor:\n",
    "    for country, evolution in zip(africa.index, executor.map(process, africa.index)):\n",
    "        cid = country.replace(' ', '_')\n",
    "        evolution.to_csv('../data/output/roads_availability/' + cid + '.csv')"
   ]
  },
  {
   "cell_type": "markdown",
   "metadata": {},
   "source": [
    "## What types of roads are mapped?"
   ]
  },
  {
   "cell_type": "markdown",
   "metadata": {},
   "source": [
    "In the OSM database, the property `highway` is used to identify the type of the mapped road segments ([see OSM docs](https://wiki.openstreetmap.org/wiki/Key:highway)). For example, in D.R. Congo, as of April 2019:"
   ]
  },
  {
   "cell_type": "code",
   "execution_count": 76,
   "metadata": {},
   "outputs": [
    {
     "data": {
      "text/plain": [
       "unclassified                162160.523\n",
       "secondary                    76623.655\n",
       "track                        65164.132\n",
       "residential                  56002.203\n",
       "tertiary                     47016.228\n",
       "road                         40118.183\n",
       "primary                      40008.008\n",
       "path                         28317.758\n",
       "motorway                     14569.337\n",
       "trunk                         7563.907\n",
       "service                       1877.551\n",
       "footway                        739.655\n",
       "unknown                        342.097\n",
       "living_street                   79.197\n",
       "construction                    61.691\n",
       "proposed                        51.091\n",
       "tertiary_link                   39.197\n",
       "bridleway                       18.043\n",
       "pedestrian                      14.283\n",
       "17028 RP314 primary             10.806\n",
       "primary_link                     9.400\n",
       "trunk_link                       9.285\n",
       "secondary_link                   4.534\n",
       "red                              1.769\n",
       "steps                            1.686\n",
       "raceway                          1.076\n",
       "umclassified                     1.019\n",
       "residential;unclassified         0.782\n",
       "yes                              0.707\n",
       "access                           0.421\n",
       "bus_stop                         0.359\n",
       "cycleway                         0.105\n",
       "motorway_link                    0.100\n",
       "emergency_access_point           0.039\n",
       "bridge                           0.007\n",
       "Name: 2019-04, dtype: float64"
      ]
     },
     "metadata": {},
     "output_type": "display_data"
    }
   ],
   "source": [
    "data_dir = '../data/output/roads_availability'\n",
    "cid = 'Democratic_Republic_of_the_Congo'\n",
    "roads = pd.read_csv(os.path.join(data_dir, f'{cid}.csv'), index_col=0)\n",
    "road_lengths = roads['2019-04'].sort_values(ascending=False).dropna()\n",
    "display(road_lengths)"
   ]
  },
  {
   "cell_type": "markdown",
   "metadata": {},
   "source": [
    "Proportion of each road type in percents:"
   ]
  },
  {
   "cell_type": "code",
   "execution_count": 30,
   "metadata": {},
   "outputs": [
    {
     "data": {
      "text/plain": [
       "unclassified    29.984814\n",
       "secondary       14.168344\n",
       "track           12.049384\n",
       "residential     10.355268\n",
       "tertiary         8.693687\n",
       "road             7.418182\n",
       "primary          7.397810\n",
       "path             5.236186\n",
       "motorway         2.693990\n",
       "trunk            1.398629\n",
       "Name: 2019-04, dtype: float64"
      ]
     },
     "metadata": {},
     "output_type": "display_data"
    }
   ],
   "source": [
    "share = (road_lengths / road_lengths.sum())\n",
    "display((share * 100).head(10))"
   ]
  },
  {
   "cell_type": "code",
   "execution_count": 33,
   "metadata": {},
   "outputs": [
    {
     "data": {
      "text/plain": [
       "0.9939629314561089"
      ]
     },
     "execution_count": 33,
     "metadata": {},
     "output_type": "execute_result"
    }
   ],
   "source": [
    "share[:10].sum()"
   ]
  },
  {
   "cell_type": "markdown",
   "metadata": {},
   "source": [
    "There is many different types of roads -- including errors and typos. But 10 road types make up for 99.4% of the road segments. NB: The value `unclassified` does not refer to a lack of information but to the least important road type in a country's system. From the point of view of OSM, road network hierarchy could be described as such:\n",
    "\n",
    "1. `motorway`\n",
    "2. `trunk`\n",
    "2. `primary`\n",
    "3. `secondary`\n",
    "4. `tertiary`\n",
    "5. `unclassified`\n",
    "6. `residential`\n",
    "\n",
    "There is also special road types:\n",
    "\n",
    "* `living_street`: legal priority of pedestrians over cars;\n",
    "* `service`: public or private access roads, e.g. in industrial areas;\n",
    "* `pedestrian`: exclusively available to pedestrians;\n",
    "* `track`: agricultural use;\n",
    "* `footway`: footpaths exclusively available to pedestrians;\n",
    "\n",
    "Finally, the following values indicates incomplete information about the segment:\n",
    "\n",
    "* `road`: non-identified road segment;\n",
    "* `path`: non-identified path;\n",
    "* `unknown`"
   ]
  },
  {
   "cell_type": "code",
   "execution_count": 92,
   "metadata": {},
   "outputs": [],
   "source": [
    "# Classify road types by hierarchy level\n",
    "hierarchy = {\n",
    "    0: ['motorway', 'motorway_link'],\n",
    "    1: ['trunk', 'trunk_link'],\n",
    "    2: ['primary', 'primary_link'],\n",
    "    3: ['secondary', 'secondary_link'],\n",
    "    4: ['tertiary', 'tertiary_link'],\n",
    "    5: ['unclassified'],\n",
    "    6: ['residential', 'road'],\n",
    "    7: ['living_street', 'track', 'service'],  # Accessible to vehicles\n",
    "    8: ['footway', 'path', 'pedestrian']  # Not accessible to vehicles\n",
    "}\n",
    "\n",
    "# Flat list of all values of interest\n",
    "of_interest = []\n",
    "for level, values in hierarchy.items():\n",
    "    of_interest += values"
   ]
  },
  {
   "cell_type": "code",
   "execution_count": 56,
   "metadata": {},
   "outputs": [],
   "source": [
    "import seaborn as sns\n",
    "import altair as alt\n",
    "alt.renderers.enable('notebook');\n",
    "from datetime import datetime"
   ]
  },
  {
   "cell_type": "code",
   "execution_count": 104,
   "metadata": {},
   "outputs": [],
   "source": [
    "# Prepare data for plotting\n",
    "data = roads.copy()\n",
    "data.columns = [pd.to_datetime(roads.columns, format='%Y-%m')]\n",
    "data = data.T.fillna(0)\n",
    "for col in data.columns:\n",
    "    if col not in of_interest:\n",
    "        data = data.drop(columns=col)"
   ]
  },
  {
   "cell_type": "markdown",
   "metadata": {},
   "source": [
    "TODO:\n",
    "\n",
    "* One stacked area chart per country?\n",
    "* Group by hierarchy level?"
   ]
  },
  {
   "cell_type": "markdown",
   "metadata": {},
   "source": [
    "## Availability of detailed road information"
   ]
  },
  {
   "cell_type": "markdown",
   "metadata": {},
   "source": [
    "The OSM database is widely used for routing & navigation. Various properties associated with road segments are used to that end, such as:\n",
    "\n",
    "* `highway`: type of road ;\n",
    "* `maxspeed`: max. speed of road segment ;\n",
    "* `width`: width of the road ;\n",
    "* `surface`: surface of the road ;\n",
    "* `lanes`: number of lanes ;\n",
    "* `tracktype`: how well maintained a track or road is ;\n",
    "* `maxspeed:practical`: expected driving speed ;\n",
    "\n",
    "The objective here is to quantify the availability of this information to assess their relevance in the context of accessibility mapping."
   ]
  },
  {
   "cell_type": "code",
   "execution_count": 4,
   "metadata": {},
   "outputs": [],
   "source": [
    "def _value(tags, prop):\n",
    "    \"\"\"Returns property value if available, NaN if not.\"\"\"\n",
    "    if prop in tags:\n",
    "        return tags[prop]\n",
    "    else:\n",
    "        return np.NaN\n",
    "\n",
    "class RoadsHandler(osmium.SimpleHandler):\n",
    "    \n",
    "    def __init__(self):\n",
    "        osmium.SimpleHandler.__init__(self)\n",
    "        self.data = []\n",
    "\n",
    "    def way(self, w):\n",
    "        if 'highway' in w.tags:\n",
    "            try:\n",
    "                length = osmium.geom.haversine_distance(w.nodes)\n",
    "            except osmium.InvalidLocationError:\n",
    "                # Way incomplete (ignore)\n",
    "                return\n",
    "            self.data.append([\n",
    "                w.id,\n",
    "                w.version,\n",
    "                pd.Timestamp(w.timestamp),\n",
    "                w.tags['highway'],\n",
    "                _value(w.tags, 'maxspeed'),\n",
    "                _value(w.tags, 'width'),\n",
    "                _value(w.tags, 'surface'),\n",
    "                _value(w.tags, 'lanes'),\n",
    "                _value(w.tags, 'tracktype'),\n",
    "                _value(w.tags, 'smoothness'),\n",
    "                length\n",
    "            ])"
   ]
  },
  {
   "cell_type": "code",
   "execution_count": 5,
   "metadata": {},
   "outputs": [],
   "source": [
    "def snapshot(roads, date):\n",
    "    \"\"\"Snapshot of the road network at a specific date.\"\"\"\n",
    "    data = roads.query('timestamp <= @date').groupby('osmid').version.max()\n",
    "    data = data.reset_index()\n",
    "    return pd.merge(data, roads, on=['osmid', 'version'])"
   ]
  },
  {
   "cell_type": "code",
   "execution_count": 6,
   "metadata": {},
   "outputs": [],
   "source": [
    "def get_tracktypes(data):\n",
    "    trackdata = data[~pd.isna(data.tracktype)]\n",
    "    return trackdata.groupby('tracktype').length.sum()\n",
    "\n",
    "def get_surfaces(data):\n",
    "    surfacedata = data[~pd.isna(data.surface)]\n",
    "    return surfacedata.groupby('surface').length.sum()\n",
    "\n",
    "def get_smoothnesses(data):\n",
    "    smoothdata = data[~pd.isna(data.smoothness)]\n",
    "    return smoothdata.groupby('smoothness').length.sum()\n",
    "\n",
    "def availability(data):\n",
    "    properties = ['maxspeed', 'width', 'surface', 'lanes', 'tracktype', 'smoothness']\n",
    "    available = pd.Series(\n",
    "        index=properties,\n",
    "        data=[data[~pd.isna(data[prop])].length.sum() for prop in properties]\n",
    "    )\n",
    "    return available\n",
    "\n",
    "def history(roads, start_date, end_date, freq='3M'):\n",
    "    \"\"\"Evolution of road length for each road type.\"\"\"\n",
    "    daterange = pd.date_range(start_date, end_date, freq=freq, tz=pytz.UTC)\n",
    "    summaries = [availability(snapshot(roads, date)) for date in daterange]\n",
    "    evolution = pd.DataFrame(summaries).T\n",
    "    evolution.columns = [d.strftime('%Y-%m') for d in daterange]\n",
    "    return evolution"
   ]
  },
  {
   "cell_type": "code",
   "execution_count": 7,
   "metadata": {},
   "outputs": [],
   "source": [
    "def process(country, extracts_dir):\n",
    "    \"\"\"Process OSM data for a given country.\"\"\"\n",
    "    cid = country.replace(' ', '_')\n",
    "    handler = RoadsHandler()\n",
    "    handler.apply_file(os.path.join(extracts_dir, f'{cid}.osh.pbf'), locations=True)\n",
    "    columns = ['osmid', 'version', 'timestamp', 'highway', 'maxspeed', 'width',\n",
    "               'surface', 'lanes', 'tracktype', 'smoothness', 'length']\n",
    "    roadinfo = pd.DataFrame(handler.data, columns=columns)\n",
    "    start = datetime(2010, 1, 1, tzinfo=pytz.UTC)\n",
    "    end = datetime(2019, 5, 1, tzinfo=pytz.UTC)\n",
    "    evolution = history(roadinfo, start, end, freq='3M') / 1000\n",
    "    tracktypes = get_tracktypes(snapshot(roadinfo, end)) / 1000\n",
    "    surfaces = get_surfaces(snapshot(roadinfo, end)) / 1000\n",
    "    smoothnesses = get_smoothnesses(snapshot(roadinfo, end)) / 1000\n",
    "    return evolution, tracktypes, surfaces, smoothnesses"
   ]
  },
  {
   "cell_type": "code",
   "execution_count": 8,
   "metadata": {},
   "outputs": [],
   "source": [
    "extracts_dir = os.path.abspath('../data/input/osm')\n",
    "output_dir = '../data/output/detailed_road_info'\n",
    "os.makedirs(output_dir, exist_ok=True)\n",
    "\n",
    "for country in africa.index:\n",
    "    cid = country.replace(' ', '_')\n",
    "    evolution, tracktypes, surfaces, smoothnesses = process(country, extracts_dir)\n",
    "    evolution.to_csv(os.path.join(output_dir, f'{cid}.csv'))\n",
    "    tracktypes.to_csv(os.path.join(output_dir, f'{cid}_track.csv'), header=['length'])\n",
    "    surfaces.to_csv(os.path.join(output_dir, f'{cid}_surface.csv'), header=['length'])\n",
    "    smoothnesses.to_csv(os.path.join(output_dir, f'{cid}_smoothness.csv'), header=['length'])"
   ]
  },
  {
   "cell_type": "code",
   "execution_count": null,
   "metadata": {},
   "outputs": [],
   "source": []
  },
  {
   "cell_type": "code",
   "execution_count": null,
   "metadata": {},
   "outputs": [],
   "source": []
  }
 ],
 "metadata": {
  "kernelspec": {
   "display_name": "Python 3",
   "language": "python",
   "name": "python3"
  },
  "language_info": {
   "codemirror_mode": {
    "name": "ipython",
    "version": 3
   },
   "file_extension": ".py",
   "mimetype": "text/x-python",
   "name": "python",
   "nbconvert_exporter": "python",
   "pygments_lexer": "ipython3",
   "version": "3.7.3"
  },
  "toc": {
   "base_numbering": 1,
   "nav_menu": {},
   "number_sections": true,
   "sideBar": true,
   "skip_h1_title": true,
   "title_cell": "Contents",
   "title_sidebar": "Contents",
   "toc_cell": true,
   "toc_position": {
    "height": "calc(100% - 180px)",
    "left": "10px",
    "top": "150px",
    "width": "301px"
   },
   "toc_section_display": true,
   "toc_window_display": true
  }
 },
 "nbformat": 4,
 "nbformat_minor": 2
}
