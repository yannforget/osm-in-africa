{
 "cells": [
  {
   "cell_type": "markdown",
   "metadata": {},
   "source": [
    "# Road network availability"
   ]
  },
  {
   "cell_type": "markdown",
   "metadata": {},
   "source": [
    "---"
   ]
  },
  {
   "cell_type": "markdown",
   "metadata": {},
   "source": [
    "### Objective & method\n",
    "\n",
    "In this notebook, we analyze road data availability by measuring the actual length of the road network--instead of just bytes of information. In the OSM database, roads are modelled by \"way\" objects (*i.e.* polylines) with a non-null value for the `highway` property, that describes the type of road (*e.g.* primary, secondary, residential, track, pedestrian, etc.)."
   ]
  },
  {
   "cell_type": "markdown",
   "metadata": {},
   "source": [
    "---"
   ]
  },
  {
   "cell_type": "code",
   "execution_count": 43,
   "metadata": {},
   "outputs": [],
   "source": [
    "import os\n",
    "import pytz\n",
    "from datetime import datetime\n",
    "import subprocess\n",
    "import json\n",
    "\n",
    "import osmium\n",
    "import numpy as np\n",
    "import pandas as pd\n",
    "import geopandas as gpd\n",
    "from fiona import crs\n",
    "import geojson\n",
    "import matplotlib.pyplot as plt\n",
    "import seaborn as sns\n",
    "\n",
    "%matplotlib inline"
   ]
  },
  {
   "cell_type": "code",
   "execution_count": 2,
   "metadata": {},
   "outputs": [],
   "source": [
    "INPUT_DIR = os.path.abspath(os.path.join('..', 'data', 'input'))\n",
    "OUTPUT_DIR = os.path.abspath(os.path.join('..', 'data', 'output'))\n",
    "OSM_DATAFILE = os.path.join(INPUT_DIR, 'africa-internal-190515.osh.pbf')"
   ]
  },
  {
   "cell_type": "code",
   "execution_count": 3,
   "metadata": {},
   "outputs": [],
   "source": [
    "africa = gpd.read_file('../data/input/africa.geojson')\n",
    "africa.set_index('ADMIN', drop=True, inplace=True)\n",
    "africa.drop(columns='ISO_A3', inplace=True)\n",
    "# Output data from previous notebook\n",
    "densities = pd.read_csv('../data/output/osmdb_densities.csv', index_col=0)"
   ]
  },
  {
   "cell_type": "markdown",
   "metadata": {},
   "source": [
    "* https://osm-internal.download.geofabrik.de/africa-internal.osh.pbf"
   ]
  },
  {
   "cell_type": "markdown",
   "metadata": {},
   "source": [
    "## Geographic extracts"
   ]
  },
  {
   "cell_type": "markdown",
   "metadata": {},
   "source": [
    "* https://oslandia.com/en/2017/07/03/openstreetmap-data-analysis-how-to-parse-the-data-with-python/\n",
    "* https://osmcode.org/osmium-tool/manual.html#creating-geographic-extracts\n",
    "* https://github.com/jazzband/python-geojson/issues/84"
   ]
  },
  {
   "cell_type": "markdown",
   "metadata": {},
   "source": [
    "The following analysis focuses on the road network, so we first filter input data based on the `highway` OSM tag in order to reduce the size of the dataset."
   ]
  },
  {
   "cell_type": "code",
   "execution_count": 14,
   "metadata": {},
   "outputs": [],
   "source": [
    "if not os.path.isfile('../data/input/africa-highways.osh.pbf'):\n",
    "\n",
    "    subprocess.run([\n",
    "        'osmium', 'tags-filter', '../data/input/africa-190605.osh.pbf', 'w/highway',\n",
    "        '-o', '../data/input/africa-highways.osh.pbf'\n",
    "    ])"
   ]
  },
  {
   "cell_type": "markdown",
   "metadata": {},
   "source": [
    "Then we perform a geographical extract for each country using the `osmium extract` subcommand."
   ]
  },
  {
   "cell_type": "code",
   "execution_count": 18,
   "metadata": {},
   "outputs": [],
   "source": [
    "# Create geographical extracts for each country\n",
    "outputdir = '../data/input/osm'\n",
    "os.makedirs(outputdir, exist_ok=True)\n",
    "for country in africa.index:\n",
    "\n",
    "    # Avoid if file already exists\n",
    "    if os.path.isfile(os.path.join(outputdir, cid + '.osh.pbf')):\n",
    "        continue\n",
    "\n",
    "    # Generate ID from country name\n",
    "    cid = country.replace(' ', '_')\n",
    "\n",
    "    # Dump geometry into a GeoJSON file\n",
    "    geom = africa.at[country, 'geometry'].__geo_interface__\n",
    "    with open('/tmp/geom.geojson', 'w') as f:\n",
    "        geojson.dump(geojson.Feature(geometry=geom), f)\n",
    "\n",
    "    # Extract from main OSM datafile with osmium\n",
    "    subprocess.run([\n",
    "        'osmium', 'extract', '--with-history',\n",
    "        '-p', '/tmp/geom.geojson',\n",
    "        '../data/input/africa-highways.osh.pbf',\n",
    "        '-o', os.path.join(outputdir, cid + '.osh.pbf')\n",
    "    ])\n",
    "    \n",
    "    os.remove('/tmp/geom.geojson')"
   ]
  },
  {
   "cell_type": "markdown",
   "metadata": {},
   "source": [
    "## Road network analysis"
   ]
  },
  {
   "cell_type": "markdown",
   "metadata": {},
   "source": [
    "* https://wiki.openstreetmap.org/wiki/Highways"
   ]
  },
  {
   "cell_type": "code",
   "execution_count": 91,
   "metadata": {},
   "outputs": [],
   "source": [
    "TAGS = [\n",
    "    'highway',\n",
    "    'maxspeed',\n",
    "    'oneway',\n",
    "    'width',\n",
    "    'surface',\n",
    "    'incline',\n",
    "    'foot',\n",
    "    'bicycle',\n",
    "    'access',\n",
    "    'bus',\n",
    "    'tracktype',\n",
    "    'lit',\n",
    "    'lanes',\n",
    "    'sidewalk',\n",
    "    'crossing'\n",
    "]"
   ]
  },
  {
   "cell_type": "code",
   "execution_count": 93,
   "metadata": {},
   "outputs": [],
   "source": [
    "class RoadsHandler(osm.SimpleHandler):\n",
    "    \n",
    "    def __init__(self):\n",
    "        osmium.SimpleHandler.__init__(self)\n",
    "        self.data = []\n",
    "    \n",
    "    def way(self, w):\n",
    "        if 'highway' in w.tags:\n",
    "            try:\n",
    "                length = osm.geom.haversine_distance(w.nodes)\n",
    "            except osmium.InvalidLocationError:\n",
    "                # Way incomplete (ignore)\n",
    "                return\n",
    "            self.data.append([\n",
    "                w.id,\n",
    "                w.version,\n",
    "                pd.Timestamp(w.timestamp),\n",
    "                w.tags['highway'],\n",
    "                length\n",
    "            ])"
   ]
  },
  {
   "cell_type": "code",
   "execution_count": 94,
   "metadata": {},
   "outputs": [],
   "source": [
    "handler = RoadsHandler()\n",
    "handler.apply_file('../data/input/osm/Mauritania.osh.pbf', locations=True)"
   ]
  },
  {
   "cell_type": "code",
   "execution_count": 101,
   "metadata": {},
   "outputs": [],
   "source": [
    "columns = ['osmid', 'version', 'timestamp', 'highway', 'length']\n",
    "roads = pd.DataFrame(handler.data, columns=columns)"
   ]
  },
  {
   "cell_type": "code",
   "execution_count": 98,
   "metadata": {},
   "outputs": [],
   "source": [
    "def snapshot(roads, date):\n",
    "    \"\"\"Snapshot of the road network at a specific date.\"\"\"\n",
    "    data = roads.query('timestamp <= @date').groupby('osmid').version.max()\n",
    "    data = data.reset_index()\n",
    "    return pd.merge(data, roads, on=['osmid', 'version'])"
   ]
  },
  {
   "cell_type": "code",
   "execution_count": 112,
   "metadata": {},
   "outputs": [],
   "source": [
    "def summarize(roads, date):\n",
    "    \"\"\"Total road length per type at a specific date.\"\"\"\n",
    "    roads_snapshot = snapshot(roads, date)\n",
    "    lengths = roads_snapshot.groupby('highway').length.sum().round()\n",
    "    return lengths / 1000"
   ]
  },
  {
   "cell_type": "code",
   "execution_count": 132,
   "metadata": {},
   "outputs": [],
   "source": [
    "def history(roads, start_date, end_date, freq='3M'):\n",
    "    \"\"\"Evolution of road length for each road type.\"\"\"\n",
    "    daterange = pd.date_range(start_date, end_date, freq=freq, tz=pytz.UTC)\n",
    "    summaries = [summarize(roads, date) for date in daterange]\n",
    "    evolution = pd.DataFrame(summaries).T\n",
    "    evolution.columns = [d.strftime('%Y-%m') for d in daterange]\n",
    "    return evolution"
   ]
  },
  {
   "cell_type": "code",
   "execution_count": 135,
   "metadata": {},
   "outputs": [],
   "source": [
    "start = datetime(2010, 1, 1, tzinfo=pytz.UTC)\n",
    "end = datetime(2019, 5, 1, tzinfo=pytz.UTC)\n",
    "evolution = history(roads, start, end)"
   ]
  },
  {
   "cell_type": "markdown",
   "metadata": {},
   "source": [
    "### Semantic information"
   ]
  },
  {
   "cell_type": "code",
   "execution_count": null,
   "metadata": {},
   "outputs": [],
   "source": []
  },
  {
   "cell_type": "code",
   "execution_count": null,
   "metadata": {},
   "outputs": [],
   "source": []
  }
 ],
 "metadata": {
  "kernelspec": {
   "display_name": "Python 3",
   "language": "python",
   "name": "python3"
  },
  "language_info": {
   "codemirror_mode": {
    "name": "ipython",
    "version": 3
   },
   "file_extension": ".py",
   "mimetype": "text/x-python",
   "name": "python",
   "nbconvert_exporter": "python",
   "pygments_lexer": "ipython3",
   "version": "3.7.3"
  }
 },
 "nbformat": 4,
 "nbformat_minor": 2
}
