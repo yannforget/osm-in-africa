{
 "cells": [
  {
   "cell_type": "markdown",
   "metadata": {},
   "source": [
    "# Gridded Analysis\n",
    "\n",
    "Analyses of data availability at the country level are limited in terms of spatial resolution. The spatial distribution of OSM contributions is highly heterogeneous and varies inside a given country. Here, we perform a gridded analysis of data availability based on 1 km cells."
   ]
  },
  {
   "cell_type": "markdown",
   "metadata": {
    "toc": true
   },
   "source": [
    "<h1>Contents<span class=\"tocSkip\"></span></h1>\n",
    "<div class=\"toc\"><ul class=\"toc-item\"><li><span><a href=\"#Data-of-interest\" data-toc-modified-id=\"Data-of-interest-1\"><span class=\"toc-item-num\">1&nbsp;&nbsp;</span>Data of interest</a></span></li><li><span><a href=\"#Create-a-100-km-grid-over-Africa\" data-toc-modified-id=\"Create-a-100-km-grid-over-Africa-2\"><span class=\"toc-item-num\">2&nbsp;&nbsp;</span>Create a 100 km grid over Africa</a></span></li></ul></div>"
   ]
  },
  {
   "cell_type": "markdown",
   "metadata": {},
   "source": [
    "## Data of interest\n",
    "\n",
    "OSM properties of interest for the road network:\n",
    "\n",
    "* `highway`: type of road ;\n",
    "* `maxspeed`: max. speed of road segment ;\n",
    "* `width`: width of the road ;\n",
    "* `surface`: surface of the road ;\n",
    "* `lanes`: number of lanes.\n",
    "\n",
    "OSM properties of interest not related to the road network:\n",
    "\n",
    "* `landuse`: polygons describing land use ;\n",
    "* `natural`: polygons describing a natural land cover ;\n",
    "* `leisure`: polygons identifying a leisure object ;\n",
    "* total number of nodes?\n",
    "\n",
    "The objective is to compute multi-temporal (each 3 months between 2010 and 2019) values for each 1 km cell:\n",
    "\n",
    "* km of roads for each road type ;\n",
    "* km of roads with a `surface` property ;\n",
    "* km of roads with a `maxspeed` property ;\n",
    "* km of roads with a `width` property ;\n",
    "* km of roads with a `lanes` property ;\n",
    "* total number of nodes ;\n",
    "* number of landuse objects ;\n",
    "* number of leisure objects ;\n",
    "* number of points of interest."
   ]
  },
  {
   "cell_type": "markdown",
   "metadata": {},
   "source": [
    "## Create a 100 km grid over Africa"
   ]
  },
  {
   "cell_type": "code",
   "execution_count": 12,
   "metadata": {},
   "outputs": [],
   "source": [
    "%matplotlib inline\n",
    "\n",
    "import os\n",
    "from itertools import product\n",
    "import subprocess\n",
    "\n",
    "import numpy as np\n",
    "import matplotlib.pyplot as plt\n",
    "import geojson\n",
    "from fiona import crs\n",
    "import pandas as pd\n",
    "import geopandas as gpd\n",
    "from shapely.geometry import Polygon\n",
    "import osmium"
   ]
  },
  {
   "cell_type": "code",
   "execution_count": 13,
   "metadata": {},
   "outputs": [],
   "source": [
    "input_dir = os.path.abspath('../data/input')\n",
    "output_dir = os.path.abspath('../data/output')"
   ]
  },
  {
   "cell_type": "code",
   "execution_count": 2,
   "metadata": {},
   "outputs": [],
   "source": [
    "WGS84 = crs.from_epsg(4326)\n",
    "\n",
    "# Use a better CRS for Africa\n",
    "AFRICA_EQUAL_AREA = crs.from_string(\n",
    "    \"+proj=aea +lat_1=20 +lat_2=-23 +lat_0=0 +lon_0=25 +x_0=0 +y_0=0 +ellps=WGS84 +datum=WGS84 +units=m no_defs\"\n",
    ")"
   ]
  },
  {
   "cell_type": "code",
   "execution_count": 3,
   "metadata": {},
   "outputs": [],
   "source": [
    "countries = gpd.read_file('../data/input/countries.geojson')\n",
    "countries.crs = WGS84\n",
    "countries.to_crs(AFRICA_EQUAL_AREA, inplace=True)"
   ]
  },
  {
   "cell_type": "code",
   "execution_count": 4,
   "metadata": {},
   "outputs": [],
   "source": [
    "def grid_dimensions(bounds, cell_size):\n",
    "    \"\"\"Get grid height and width.\"\"\"\n",
    "    xmin, ymin, xmax, ymax = bounds\n",
    "    height = (ymax - ymin) / cell_size\n",
    "    width = (xmax - xmin) / cell_size\n",
    "    return height, width\n",
    "\n",
    "def round_bounds(bounds, cell_size):\n",
    "    \"\"\"Round xmax and ymax so that height and width are integers.\"\"\"\n",
    "    height, width = grid_dimensions(bounds, cell_size)\n",
    "    x_delta = np.ceil(width) - width\n",
    "    y_delta = np.ceil(height) - height\n",
    "    xmin, ymin, xmax, ymax = bounds\n",
    "    xmax += x_delta * cell_size\n",
    "    ymax += y_delta * cell_size\n",
    "    return (xmin, ymin, xmax, ymax)"
   ]
  },
  {
   "cell_type": "code",
   "execution_count": 5,
   "metadata": {},
   "outputs": [],
   "source": [
    "CELL_SIZE = 100000\n",
    "bounds = round_bounds(countries.total_bounds.round(6), CELL_SIZE)\n",
    "height, width = grid_dimensions(bounds, CELL_SIZE)"
   ]
  },
  {
   "cell_type": "code",
   "execution_count": 6,
   "metadata": {},
   "outputs": [],
   "source": [
    "def get_cell_size(bounds, height, width):\n",
    "    \"\"\"Get cell size from grid bounds, height and width.\"\"\"\n",
    "    xmin, ymin, xmax, ymax = bounds\n",
    "    xres = (xmax - xmin) / width\n",
    "    yres = (ymax - ymin) / height\n",
    "    return xres, yres\n",
    "\n",
    "def create_grid(bounds, height, width):\n",
    "    \"\"\"Create grid from bounds, height and width. Returns a list\n",
    "    of polygons.\n",
    "    \"\"\"\n",
    "    assert round(height) == height\n",
    "    assert round(width) == width\n",
    "    xres, yres = get_cell_size(bounds, height, width)\n",
    "    xmin, ymin, xmax, ymax = bounds\n",
    "    polygons = []\n",
    "    for x in np.arange(xmin, xmax, xres):\n",
    "        for y in np.arange(ymin, ymax, yres):\n",
    "            polygons.append(Polygon([\n",
    "                (x, y),\n",
    "                (x + xres, y),\n",
    "                (x + xres, y - yres),\n",
    "                (x, y - yres)\n",
    "            ]))\n",
    "    return polygons"
   ]
  },
  {
   "cell_type": "code",
   "execution_count": 7,
   "metadata": {},
   "outputs": [],
   "source": [
    "polygons = create_grid(bounds, height, width)\n",
    "grid = gpd.GeoSeries(polygons)\n",
    "grid.crs = AFRICA_EQUAL_AREA"
   ]
  },
  {
   "cell_type": "code",
   "execution_count": 8,
   "metadata": {},
   "outputs": [],
   "source": [
    "# Get rid of cells that does not intersect land\n",
    "africa = countries.unary_union\n",
    "grid = grid[grid.intersects(africa)]"
   ]
  },
  {
   "cell_type": "code",
   "execution_count": 14,
   "metadata": {},
   "outputs": [],
   "source": [
    "grid.to_file(os.path.join(input_dir, 'grid.gpkg'), driver='GPKG')"
   ]
  },
  {
   "cell_type": "code",
   "execution_count": 9,
   "metadata": {},
   "outputs": [
    {
     "data": {
      "text/plain": [
       "(3207, 81.0, 92.0)"
      ]
     },
     "execution_count": 9,
     "metadata": {},
     "output_type": "execute_result"
    }
   ],
   "source": [
    "len(grid), width, height"
   ]
  },
  {
   "cell_type": "code",
   "execution_count": null,
   "metadata": {},
   "outputs": [],
   "source": []
  }
 ],
 "metadata": {
  "kernelspec": {
   "display_name": "Python 3",
   "language": "python",
   "name": "python3"
  },
  "language_info": {
   "codemirror_mode": {
    "name": "ipython",
    "version": 3
   },
   "file_extension": ".py",
   "mimetype": "text/x-python",
   "name": "python",
   "nbconvert_exporter": "python",
   "pygments_lexer": "ipython3",
   "version": "3.7.3"
  },
  "toc": {
   "base_numbering": 1,
   "nav_menu": {},
   "number_sections": true,
   "sideBar": true,
   "skip_h1_title": true,
   "title_cell": "Contents",
   "title_sidebar": "Contents",
   "toc_cell": true,
   "toc_position": {
    "height": "calc(100% - 180px)",
    "left": "10px",
    "top": "150px",
    "width": "267.6px"
   },
   "toc_section_display": true,
   "toc_window_display": true
  }
 },
 "nbformat": 4,
 "nbformat_minor": 2
}
